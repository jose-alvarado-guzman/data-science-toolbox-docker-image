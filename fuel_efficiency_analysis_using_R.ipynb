{
 "cells": [
  {
   "cell_type": "markdown",
   "metadata": {},
   "source": [
    "# Automobile Fuel Efficiency Analysis in R\n",
    "## Objectives \n",
    "* Acquiring automobile fuel efficiency data\n",
    "* Preparing the R environment\n",
    "* Importing automobile fuel efficiency data into R\n",
    "* Exploring and describing fuel efficiency data\n",
    "* Analyzing automobile fuel efficiency over time"
   ]
  },
  {
   "cell_type": "markdown",
   "metadata": {},
   "source": [
    "### Metadata"
   ]
  },
  {
   "cell_type": "markdown",
   "metadata": {},
   "source": [
    "The Office of Energy Efficiency and Renewable Energy of the U.S. Environmental Protection Agency (EPA) provide access to Vehicle Dataset through their [Fuel Economy Site](http://www.fueleconomy.gov). This dataset contains fuel efficiency performance metrics, measured in miles per gallon (MPG) over time, for most makes and models of automobiles available in the U.S. since 1984. In addition to fuel efficiency attributes, this dataset also contains several other attributes of the vehicle listed, thereby providing the opportunity to summarize and group data to determine which makers or models tend to have better fuel efficiency historically and how this has changed over the years."
   ]
  },
  {
   "cell_type": "markdown",
   "metadata": {},
   "source": [
    "### Acquiring automobile fuel efficiency data"
   ]
  },
  {
   "cell_type": "code",
   "execution_count": null,
   "metadata": {},
   "outputs": [],
   "source": [
    "# URL containing the data file\n",
    "url<-'http://www.fueleconomy.gov/feg/epadata/vehicles.csv.zip'\n",
    "# Create a temporary file to save the downloaded file\n",
    "temp <- tempfile()\n",
    "# Downloading the data file\n",
    "download.file(url,temp)\n",
    "# Unziping the data file and reading it into R \n",
    "data <- read.table(unz(temp, \"vehicles.csv\"),sep=',',header = TRUE)\n",
    "# Removing the temporary file\n",
    "unlink(temp)"
   ]
  },
  {
   "cell_type": "markdown",
   "metadata": {},
   "source": [
    "### Preparing the R environment\n",
    "To install new packages in a non default location use: \n",
    "* install.packages('tidyverse',lib='~/.R_Libs')\n",
    "\n",
    "To tell R where to look for this packages use:\n",
    "* .libPaths(c(.libPaths(),'~/.R_Libs'))"
   ]
  },
  {
   "cell_type": "code",
   "execution_count": null,
   "metadata": {},
   "outputs": [],
   "source": [
    "# Loading required libraries\n",
    "library(tidyverse)\n",
    "options(repr.plot.width=8, repr.plot.height=8)"
   ]
  },
  {
   "cell_type": "markdown",
   "metadata": {},
   "source": [
    "### Exploring and describing fuel efficiency data"
   ]
  },
  {
   "cell_type": "markdown",
   "metadata": {},
   "source": [
    "#### Data Structure\n",
    "A description of the features can be access [here](https://www.fueleconomy.gov/feg/ws/index.shtml#vehicle)"
   ]
  },
  {
   "cell_type": "code",
   "execution_count": null,
   "metadata": {},
   "outputs": [],
   "source": [
    "str(data)"
   ]
  },
  {
   "cell_type": "markdown",
   "metadata": {},
   "source": [
    "#### Summary of the data"
   ]
  },
  {
   "cell_type": "code",
   "execution_count": null,
   "metadata": {},
   "outputs": [],
   "source": [
    "summary(data)"
   ]
  },
  {
   "cell_type": "markdown",
   "metadata": {},
   "source": [
    "We see from the previous output that the year ranges from 1984 to 2021. Looking at the distribution of observations by year it can be observe that the year 2021 only has 3. Therefore, this year is going to be remove from the dataset for posterior analysis."
   ]
  },
  {
   "cell_type": "code",
   "execution_count": null,
   "metadata": {},
   "outputs": [],
   "source": [
    "table(data$year)"
   ]
  },
  {
   "cell_type": "code",
   "execution_count": null,
   "metadata": {},
   "outputs": [],
   "source": [
    "data <- data %>% filter(year<2021)"
   ]
  },
  {
   "cell_type": "markdown",
   "metadata": {},
   "source": [
    "### Average MPG overall trend over time.\n",
    "To do this, we will use a technique call split-apply-combine. We will __split__ the dataframe into groups by year, __apply__ the mean function to specific variables, and __combine__ the results into a new data frame. This can be accomplish using the ddply function from the plyr package to take the data, aggregate the observations by year, and then, for each group, compute the mean highway, city, and combine fuel efficiency. The result of this process is then visualize using the ggplot2 Library which is an implementation of the [Grammer of Graphics](https://towardsdatascience.com/a-comprehensive-guide-to-the-grammar-of-graphics-for-effective-visualization-of-multi-dimensional-1f92b4ed4149)."
   ]
  },
  {
   "cell_type": "code",
   "execution_count": null,
   "metadata": {},
   "outputs": [],
   "source": [
    "data %>% \n",
    "    plyr::ddply(~year, summarise, avgMPG = mean(comb08), avgHghy = mean(highway08),avgCity = mean(city08)) %>%\n",
    "    ggplot(aes(year,avgMPG)) + geom_point() + geom_smooth() + xlab(\"Year\") + ylab(\"Average MPG\") + \n",
    "    ggtitle(\"All cars\") + theme_bw()"
   ]
  },
  {
   "cell_type": "markdown",
   "metadata": {},
   "source": [
    "Based on this visualization, one might conclude that there has been a tremendous increase in the fuel economy of cars sold in the last few years. However, this can be a little misleading as there have been more hybrid and non-gasoline vehicles in the later years."
   ]
  },
  {
   "cell_type": "code",
   "execution_count": null,
   "metadata": {},
   "outputs": [],
   "source": [
    "data %>% \n",
    "    select(year,fuelType1,atvType) %>% \n",
    "    plyr::ddply(~year,summarise,electrical=sum(fuelType1=='Electricity' | atvType=='Hybrid')) %>% \n",
    "    filter(electrical>0) %>% \n",
    "    mutate(year=as.factor(year)) %>% \n",
    "    ggplot(aes(year,electrical)) + geom_bar(stat = 'identity',fill='lightblue') + theme_bw()"
   ]
  },
  {
   "cell_type": "code",
   "execution_count": null,
   "metadata": {},
   "outputs": [],
   "source": [
    "vehicles_non_hybrid <- data %>% filter(grepl('Gasoline',fuelType1) & fuelType2 == \"\" & atvType!='Hybrid')\n",
    "vehicles_non_hybrid %>% \n",
    "    plyr::ddply(~year, summarise, avgMPG = mean(comb08), avgHghy = mean(highway08),avgCity = mean(city08)) %>%\n",
    "    ggplot(aes(year,avgMPG)) + geom_point() + geom_smooth() + xlab(\"Year\") + ylab(\"Average MPG\") + \n",
    "    ggtitle(\"Gasoline cars\") + theme_bw()"
   ]
  },
  {
   "cell_type": "markdown",
   "metadata": {},
   "source": [
    "This visualization shows that there is still a marked rise in the average miles per gallon even after eliminating hybrids. The next question that we can ask is whether there have been fewer cars with large engines built more recently? If this is true, it could explain the increase in average miles per gallon. First, let's verify that larger engine cars have poorer miles per gallon."
   ]
  },
  {
   "cell_type": "code",
   "execution_count": null,
   "metadata": {},
   "outputs": [],
   "source": [
    "vehicles_non_hybrid %>% \n",
    "    ggplot(aes(displ, comb08)) + geom_point() + geom_smooth() + \n",
    "    xlab('Engine displacement in liters') + ylab('MPG') + \n",
    "    annotate('text',x=5,y=40,\n",
    "             label=paste('Correlation:',cor(vehicles_non_hybrid$comb08,vehicles_non_hybrid$displ,use='complete.obs')),\n",
    "             colour='darkred',size=6\n",
    "            ) + theme_bw()"
   ]
  },
  {
   "cell_type": "markdown",
   "metadata": {},
   "source": [
    "Now, let's see whether more small cars were made in later years, which can explain the drastic increase in fuel efficiency."
   ]
  },
  {
   "cell_type": "code",
   "execution_count": null,
   "metadata": {},
   "outputs": [],
   "source": [
    "vehicles_non_hybrid %>% \n",
    "    plyr::ddply(~year, summarise, avgDispl = mean(displ)) %>%\n",
    "    ggplot(aes(year, avgDispl)) + geom_point() + geom_smooth() + \n",
    "    xlab(\"Year\") + ylab(\"Average engine displacement (l)\") + theme_bw()"
   ]
  },
  {
   "cell_type": "markdown",
   "metadata": {},
   "source": [
    "From the preceding figure,it can be observed the average engine displacement has decreased substantially since 2008. To get a better sense of the impact this might have had on fuel efficiency, we can put both MPG and displacement by year on the same graph. To do this, we need to reshape the dataset to convert it from the wide format to the long format using the __melt__ function of the package reshape2."
   ]
  },
  {
   "cell_type": "code",
   "execution_count": null,
   "metadata": {},
   "outputs": [],
   "source": [
    "vehicles_non_hybrid %>%\n",
    "    plyr::ddply(~year, summarise, avgMPG = mean(comb08), avgDispl = mean(displ)) %>%\n",
    "    reshape2::melt(id = \"year\",value.name = 'Value',variable.name = 'Atribute') %>%\n",
    "    ggplot(aes(year,Value)) + geom_point() + geom_smooth() + theme_bw() +\n",
    "    facet_wrap(~Atribute,ncol = 1,scales='free_y')"
   ]
  },
  {
   "cell_type": "markdown",
   "metadata": {},
   "source": [
    "From this visulazation, we can see the following:\n",
    "* Engine sizes have generally increased until 2008, with a sudden increase in large cars between 2006 and 2008.\n",
    "* Since 2009, there has been a decrease in the average car size, which partially explains the increase in fuel efficiency.\n",
    "* Until 2005, there was an increase in the average car size, but the fuel efficiency remained roughly constant. This seems to indicate that engine efficiency has increased over the years.\n",
    "* The years 2006–2008 are interesting. Though the average engine size increased quite suddenly, the MPG remained roughly the same as in previous years. This seeming discrepancy might require more investigation."
   ]
  },
  {
   "cell_type": "markdown",
   "metadata": {},
   "source": [
    "Now, let's see how makes and models of cars inform us about fuel efficiency over time. First, look at the frequency of makes and models of cars available in the U.S., concentrating on 4-cylinder cars."
   ]
  },
  {
   "cell_type": "code",
   "execution_count": null,
   "metadata": {},
   "outputs": [],
   "source": [
    "vehicles_non_hybrid_4 <- vehicles_non_hybrid %>% filter(cylinders == 4)\n",
    "vehicles_non_hybrid_4 %>% \n",
    "    plyr::ddply(~year,summarise,numberOfMakes = length(unique(make))) %>%\n",
    "    ggplot(aes(x=year,y=numberOfMakes)) + geom_point() + xlab('Year') + ylab('Number of available makes') +\n",
    "        ggtitle('Four cylinder cars') + geom_smooth()"
   ]
  },
  {
   "cell_type": "markdown",
   "metadata": {},
   "source": [
    "We can see in the preceding graph that there has been a decline in the number of makes with 4-cylinder engines available since 1980. Can we look at the makes that have been available every year in this dataset?"
   ]
  },
  {
   "cell_type": "code",
   "execution_count": null,
   "metadata": {},
   "outputs": [],
   "source": [
    "uniqMakes <- vehicles_non_hybrid_4 %>% plyr::dlply(~year, function(x) unique(x$make))\n",
    "commonMakes <- Reduce(intersect, uniqMakes)\n",
    "commonMakes"
   ]
  },
  {
   "cell_type": "markdown",
   "metadata": {},
   "source": [
    "Let see how these car manufacturers' models have performed over time."
   ]
  },
  {
   "cell_type": "code",
   "execution_count": null,
   "metadata": {},
   "outputs": [],
   "source": [
    "vehicles_non_hybrid_4 %>%\n",
    "    filter(make %in% commonMakes) %>%\n",
    "    plyr::ddply(~year + make, summarise, avgMPG = mean(comb08)) %>%\n",
    "    ggplot(aes(year, avgMPG)) + geom_line() + facet_wrap(~make, nrow = 3) + theme_bw()"
   ]
  }
 ],
 "metadata": {
  "kernelspec": {
   "display_name": "R",
   "language": "R",
   "name": "ir"
  },
  "language_info": {
   "codemirror_mode": "r",
   "file_extension": ".r",
   "mimetype": "text/x-r-source",
   "name": "R",
   "pygments_lexer": "r",
   "version": "3.5.2"
  }
 },
 "nbformat": 4,
 "nbformat_minor": 4
}
