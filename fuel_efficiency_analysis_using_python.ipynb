{
 "cells": [
  {
   "cell_type": "markdown",
   "metadata": {},
   "source": [
    "# Automobile Fuel Efficiency Analysis in Python\n",
    "## Objectives \n",
    "* Acquiring automobile fuel efficiency data\n",
    "* Preparing the Python environment\n",
    "* Importing automobile fuel efficiency data into Python\n",
    "* Exploring and describing fuel efficiency data\n",
    "* Analyzing automobile fuel efficiency over time"
   ]
  },
  {
   "cell_type": "markdown",
   "metadata": {},
   "source": [
    "### Metadata"
   ]
  },
  {
   "cell_type": "markdown",
   "metadata": {},
   "source": [
    "The Office of Energy Efficiency and Renewable Energy of the U.S. Environmental Protection Agency (EPA) provide access to Vehicle Dataset through their [Fuel Economy Site](http://www.fueleconomy.gov). This dataset contains fuel efficiency performance metrics, measured in miles per gallon (MPG) over time, for most makes and models of automobiles available in the U.S. since 1984. In addition to fuel efficiency attributes, this dataset also contains several other attributes of the vehicle listed, thereby providing the opportunity to summarize and group data to determine which makers or models tend to have better fuel efficiency historically and how this has changed over the years."
   ]
  },
  {
   "cell_type": "markdown",
   "metadata": {},
   "source": [
    "### Preparing the Python environment"
   ]
  },
  {
   "cell_type": "code",
   "execution_count": null,
   "metadata": {},
   "outputs": [],
   "source": [
    "from io import BytesIO\n",
    "from zipfile import ZipFile\n",
    "from urllib.request import urlopen\n",
    "import pandas as pd\n",
    "import numpy as np\n",
    "import plotnine as pn\n",
    "import matplotlib.pyplot as plt\n",
    "import functools"
   ]
  },
  {
   "cell_type": "markdown",
   "metadata": {},
   "source": [
    "### Acquiring automobile fuel efficiency data"
   ]
  },
  {
   "cell_type": "code",
   "execution_count": null,
   "metadata": {},
   "outputs": [],
   "source": [
    "# URL containing the data file\n",
    "url='http://www.fueleconomy.gov/feg/epadata/vehicles.csv.zip'\n",
    "# Downloading the file and saving it in memory\n",
    "response = urlopen(url)\n",
    "compressed_file = ZipFile(BytesIO(response.read()))\n",
    "# Decompressing the file and loading it into a Python Data Frame\n",
    "file=compressed_file.open(compressed_file.namelist().pop())\n",
    "data=pd.read_csv(file,low_memory=False)"
   ]
  },
  {
   "cell_type": "markdown",
   "metadata": {},
   "source": [
    "### Exploring and describing fuel efficiency data"
   ]
  },
  {
   "cell_type": "markdown",
   "metadata": {},
   "source": [
    "#### Data Structure\n",
    "A description of the features can be access [here](https://www.fueleconomy.gov/feg/ws/index.shtml#vehicle)"
   ]
  },
  {
   "cell_type": "code",
   "execution_count": null,
   "metadata": {},
   "outputs": [],
   "source": [
    "data.info()"
   ]
  },
  {
   "cell_type": "markdown",
   "metadata": {},
   "source": [
    "#### Summary of the data"
   ]
  },
  {
   "cell_type": "code",
   "execution_count": null,
   "metadata": {},
   "outputs": [],
   "source": [
    "data.describe()"
   ]
  },
  {
   "cell_type": "code",
   "execution_count": null,
   "metadata": {},
   "outputs": [],
   "source": [
    "data.year.value_counts()"
   ]
  },
  {
   "cell_type": "markdown",
   "metadata": {},
   "source": [
    "We see from the previous output that the year ranges from 1984 to 2021. Looking at the distribution of observations by year it can be observe that the year 2021 only has 3. Therefore, this year is going to be remove from the dataset for posterior analysis."
   ]
  },
  {
   "cell_type": "code",
   "execution_count": null,
   "metadata": {},
   "outputs": [],
   "source": [
    "data=data[data.year<2021]"
   ]
  },
  {
   "cell_type": "markdown",
   "metadata": {},
   "source": [
    "### Average MPG overall trend over time.\n",
    "To do this, we will use a technique call split-apply-combine. We will __split__ the dataframe into groups by year, __apply__ the mean function to specific variables, and __combine__ the results into a new dataframe. This can be accomplish by using the groupby and the agg functions of the Pandas Library to aggregate the observations by year, and then, for each group, compute the mean (by using the mean function of the Numpy Library) highway, city, and combine fuel efficiency. The result is then assigned to a new data frame, meanMPG. This dataset then visualize using the ggplot2 Library which is an implementation of the [Grammer of Graphics](https://towardsdatascience.com/a-comprehensive-guide-to-the-grammar-of-graphics-for-effective-visualization-of-multi-dimensional-1f92b4ed4149)."
   ]
  },
  {
   "cell_type": "code",
   "execution_count": null,
   "metadata": {},
   "outputs": [],
   "source": [
    "meanMPG = data.groupby(\"year\")[['year','comb08','highway08','city08']].agg([np.mean])\n",
    "meanMPG.columns = ['year','avgMPG','avgHghy','avgCity']\n",
    "pn.ggplot(meanMPG,pn.aes('year','avgMPG')) + pn.geom_point(color='steelblue') + pn.geom_smooth(linetype='dashed') + \\\n",
    "    pn.xlab(\"Year\") + pn.ylab(\"Average MPG\") + pn.ggtitle(\"All cars\") + pn.theme_bw()"
   ]
  },
  {
   "cell_type": "markdown",
   "metadata": {},
   "source": [
    "Based on this visualization, one might conclude that there has been a tremendous increase in the fuel economy of cars sold in the last few years. However, this can be a little misleading as there have been more hybrid and non-gasoline vehicles in the later years."
   ]
  },
  {
   "cell_type": "code",
   "execution_count": null,
   "metadata": {},
   "outputs": [],
   "source": [
    "criteria1 = data.fuelType1.str.endswith('Gasoline')\n",
    "criteria2 = data.fuelType2.isnull()\n",
    "criteria3 = data.atvType != \"Hybrid\"\n",
    "vehicles_non_hybrid = data[criteria1 & criteria2 & criteria3]\n",
    "meanMPG_non_hybrid = vehicles_non_hybrid.groupby('year')[['comb08','highway08','city08']].agg([np.mean])\n",
    "meanMPG_non_hybrid.columns = ['avgMPG','avgHghy','avgCity']\n",
    "meanMPG_non_hybrid['year']=meanMPG.index\n",
    "meanMPG_non_hybrid['year']=meanMPG_non_hybrid.index\n",
    "pn.ggplot(meanMPG_non_hybrid,pn.aes('year','avgMPG')) + pn.geom_point(color='steelblue') + \\\n",
    "    pn.geom_smooth(linetype='dashed') + pn.xlab(\"Year\") + pn.ylab(\"Average MPG\") + pn.ggtitle(\"Gasoline cars\") + \\\n",
    "    pn.theme_bw()"
   ]
  },
  {
   "cell_type": "markdown",
   "metadata": {},
   "source": [
    "This visualization shows that there is still a marked rise in the average miles per gallon even after eliminating hybrids. The next question that we can ask is whether there have been fewer cars with large engines built more recently? If this is true, it could explain the increase in average miles per gallon. First, let's verify that larger engine cars have poorer miles per gallon."
   ]
  },
  {
   "cell_type": "code",
   "execution_count": null,
   "metadata": {},
   "outputs": [],
   "source": [
    "vehicles_non_hybrid = vehicles_non_hybrid[vehicles_non_hybrid.displ.notnull() &\\\n",
    "                                          vehicles_non_hybrid.comb08.notnull()]\n",
    "vehicles_non_hybrid.displ = vehicles_non_hybrid.displ.astype('float')\n",
    "pn.ggplot(vehicles_non_hybrid, pn.aes('displ', 'comb08')) + pn.geom_point(color='steelblue') + \\\n",
    "    pn.xlab(\"Engine Displacement\") + pn.ylab(\"Average MPG\") + pn.ggtitle(\"Gasoline cars\") + \\\n",
    "    pn.annotate('text',x=5,y=40,label='Correlation:' + \\\n",
    "             str(np.corrcoef(vehicles_non_hybrid.comb08,vehicles_non_hybrid.displ)[0,1]),colour='darkred',size=10 \\\n",
    "            ) + pn.theme_bw()"
   ]
  },
  {
   "cell_type": "markdown",
   "metadata": {},
   "source": [
    "Now, let's see whether more small cars were made in later years, which can explain the drastic increase in fuel efficiency."
   ]
  },
  {
   "cell_type": "code",
   "execution_count": null,
   "metadata": {},
   "outputs": [],
   "source": [
    "vehicles_non_hybrid_grouped=vehicles_non_hybrid.groupby('year')[['year','displ']].agg([np.mean])\n",
    "vehicles_non_hybrid_grouped.columns =['year','avgDispl']\n",
    "pn.ggplot(vehicles_non_hybrid_grouped,pn.aes('year', 'avgDispl')) + pn.geom_line(color='steelblue') + \\\n",
    "    pn.xlab(\"Year\") + pn.ylab(\"Average engine displacement (l)\") + pn.theme_bw()"
   ]
  },
  {
   "cell_type": "markdown",
   "metadata": {},
   "source": [
    "From the preceding figure,it can be observed the average engine displacement has decreased substantially since 2008. To get a better sense of the impact this might have had on fuel efficiency, we can put both MPG and displacement by year on the same graph. To do this, we need to reshape the dataset to convert it from the wide format to the long format using the __melt__ function of the Pandas library."
   ]
  },
  {
   "cell_type": "code",
   "execution_count": null,
   "metadata": {},
   "outputs": [],
   "source": [
    "avg_grouped_by_year = vehicles_non_hybrid.groupby(['year'])[['year','displ', 'comb08']].agg([np.mean])\n",
    "avg_grouped_by_year.columns=['year','avgDispl','avgMPG']\n",
    "melted_avg_grouped_by_year=pd.melt(avg_grouped_by_year,id_vars='year')\n",
    "pn.ggplot(melted_avg_grouped_by_year,pn.aes('year','value')) + pn.geom_line(color='steelblue') + pn.theme_bw() + \\\n",
    "    pn.facet_wrap('variable',ncol = 1,scales='free_y')"
   ]
  },
  {
   "cell_type": "markdown",
   "metadata": {},
   "source": [
    "From this visulazation, we can see the following:\n",
    "* Engine sizes have generally increased until 2008, with a sudden increase in large cars between 2006 and 2008.\n",
    "* Since 2009, there has been a decrease in the average car size, which partially explains the increase in fuel efficiency.\n",
    "* Until 2005, there was an increase in the average car size, but the fuel efficiency remained roughly constant. This seems to indicate that engine efficiency has increased over the years.\n",
    "* The years 2006–2008 are interesting. Though the average engine size increased quite suddenly, the MPG remained roughly the same as in previous years. This seeming discrepancy might require more investigation."
   ]
  },
  {
   "cell_type": "markdown",
   "metadata": {},
   "source": [
    "Now, let's see how makes and models of cars inform us about fuel efficiency over time. First, look at the frequency of makes and models of cars available in the U.S., concentrating on 4-cylinder cars."
   ]
  },
  {
   "cell_type": "code",
   "execution_count": null,
   "metadata": {},
   "outputs": [],
   "source": [
    "vehicles_non_hybrid_4 = vehicles_non_hybrid[(vehicles_non_hybrid.cylinders == 4.0)]\n",
    "vehicles_non_hybrid_4_grouped = vehicles_non_hybrid_4.groupby('year').make.nunique()\n",
    "figure = vehicles_non_hybrid_4_grouped.plot(figsize=(9,6))\n",
    "figure.set_xlabel('Year')\n",
    "figure.set_ylabel('Number of 4-cylider Makes')\n",
    "figure"
   ]
  },
  {
   "cell_type": "markdown",
   "metadata": {},
   "source": [
    "We can see in the preceding graph that there has been a decline in the number of makes with 4-cylinder engines available since 1980. Can we look at the makes that have been available every year in this dataset?"
   ]
  },
  {
   "cell_type": "code",
   "execution_count": null,
   "metadata": {},
   "outputs": [],
   "source": [
    "unique_makes=[]\n",
    "for name, group in vehicles_non_hybrid_4.groupby('year'):\n",
    "    unique_makes.append(set(group.make.unique()))\n",
    "unique_makes=functools.reduce(set.intersection,unique_makes)\n",
    "unique_makes"
   ]
  },
  {
   "cell_type": "markdown",
   "metadata": {},
   "source": [
    "Let see how these car manufacturers' models have performed over time."
   ]
  },
  {
   "cell_type": "code",
   "execution_count": null,
   "metadata": {},
   "outputs": [],
   "source": [
    "vehicles_non_hybrid_4_makers = vehicles_non_hybrid_4[vehicles_non_hybrid_4.make.isin(unique_makes)]\n",
    "vehicles_non_hybrid_4_makers_grouped = vehicles_non_hybrid_4_makers.groupby(['year','make'])[['make','comb08']] \\\n",
    "    .agg([np.mean]).reset_index()\n",
    "vehicles_non_hybrid_4_makers_grouped.columns = ['year','make','avgMPG']\n",
    "pn.ggplot(vehicles_non_hybrid_4_makers_grouped,pn.aes(x='year', y='avgMPG')) + pn.geom_line() + \\\n",
    "    pn.facet_wrap('make') + pn.theme_bw()"
   ]
  }
 ],
 "metadata": {
  "kernelspec": {
   "display_name": "Python3_DS_Training",
   "language": "python",
   "name": "python3_ds_training"
  },
  "language_info": {
   "codemirror_mode": {
    "name": "ipython",
    "version": 3
   },
   "file_extension": ".py",
   "mimetype": "text/x-python",
   "name": "python",
   "nbconvert_exporter": "python",
   "pygments_lexer": "ipython3",
   "version": "3.7.6"
  }
 },
 "nbformat": 4,
 "nbformat_minor": 4
}
